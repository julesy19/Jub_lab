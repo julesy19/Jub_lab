{
 "cells": [
  {
   "cell_type": "markdown",
   "metadata": {},
   "source": [
    "## Guns"
   ]
  },
  {
   "cell_type": "code",
   "execution_count": 55,
   "metadata": {},
   "outputs": [
    {
     "name": "stdout",
     "output_type": "stream",
     "text": [
      "[['1,2012,\"01\",\"Suicide\",0,\"M\",34,\"Asian/Pacific Islander\",100,\"Home\",4'], ['2,2012,\"01\",\"Suicide\",0,\"F\",21,\"White\",100,\"Street\",3'], ['3,2012,\"01\",\"Suicide\",0,\"M\",60,\"White\",100,\"Other specified\",4'], ['4,2012,\"02\",\"Suicide\",0,\"M\",64,\"White\",100,\"Home\",4'], ['5,2012,\"02\",\"Suicide\",0,\"M\",31,\"White\",100,\"Other specified\",2'], ['6,2012,\"02\",\"Suicide\",0,\"M\",17,\"Native American/Native Alaskan\",100,\"Home\",1'], ['7,2012,\"02\",\"Undetermined\",0,\"M\",48,\"White\",100,\"Home\",2'], ['8,2012,\"03\",\"Suicide\",0,\"M\",41,\"Native American/Native Alaskan\",100,\"Home\",2'], ['9,2012,\"02\",\"Accidental\",0,\"M\",50,\"White\",100,\"Other specified\",3'], ['10,2012,\"02\",\"Suicide\",0,\"M\",NA,\"Black\",998,\"Home\",5'], ['11,2012,\"02\",\"Suicide\",0,\"M\",30,\"White\",100,\"Home\",3'], ['12,2012,\"01\",\"Suicide\",0,\"M\",21,\"Native American/Native Alaskan\",100,\"Home\",2'], ['13,2012,\"03\",\"Suicide\",0,\"M\",43,\"White\",100,\"Home\",1'], ['14,2012,\"03\",\"Suicide\",0,\"M\",34,\"Native American/Native Alaskan\",100,\"Home\",2'], ['15,2012,\"03\",\"Homicide\",0,\"M\",27,\"White\",100,\"Home\",2'], ['16,2012,\"03\",\"Suicide\",0,\"M\",27,\"Native American/Native Alaskan\",100,\"Home\",2'], ['17,2012,\"03\",\"Suicide\",0,\"M\",55,\"White\",100,\"Home\",4'], ['18,2012,\"03\",\"Suicide\",0,\"M\",53,\"Native American/Native Alaskan\",100,\"Home\",2'], ['19,2012,\"03\",\"Homicide\",0,\"M\",31,\"Asian/Pacific Islander\",100,\"Home\",3'], ['20,2012,\"04\",\"Suicide\",0,\"M\",51,\"White\",100,\"Home\",2'], ['21,2012,\"04\",\"Suicide\",0,\"M\",65,\"Native American/Native Alaskan\",100,\"Home\",2'], ['22,2012,\"04\",\"Suicide\",0,\"F\",52,\"White\",100,\"Home\",2'], ['23,2012,\"04\",\"Homicide\",0,\"F\",47,\"Black\",100,\"Home\",2'], ['24,2012,\"04\",\"Suicide\",0,\"M\",19,\"White\",100,\"Home\",3'], ['25,2012,\"04\",\"Homicide\",0,\"M\",51,\"White\",100,\"Other specified\",2'], ['26,2012,\"04\",\"Homicide\",0,\"M\",41,\"White\",100,\"Other specified\",2'], ['27,2012,\"04\",\"Suicide\",0,\"M\",22,\"Native American/Native Alaskan\",100,\"Other specified\",2'], ['28,2012,\"04\",\"Suicide\",0,\"M\",21,\"White\",100,\"Other specified\",2'], ['29,2012,\"04\",\"Suicide\",0,\"M\",56,\"White\",100,\"Home\",2'], ['30,2012,\"04\",\"Homicide\",0,\"M\",43,\"White\",100,\"Other specified\",2'], ['31,2012,\"04\",\"Suicide\",0,\"M\",38,\"Native American/Native Alaskan\",100,\"Home\",2'], ['32,2012,\"04\",\"Suicide\",0,\"M\",55,\"White\",100,\"Home\",4'], ['33,2012,\"04\",\"Suicide\",0,\"M\",22,\"Native American/Native Alaskan\",100,\"Home\",5'], ['34,2012,\"05\",\"Suicide\",0,\"M\",27,\"White\",100,\"Home\",2'], ['35,2012,\"04\",\"Homicide\",0,\"F\",25,\"White\",100,\"Home\",2'], ['36,2012,\"04\",\"Undetermined\",0,\"M\",26,\"White\",100,\"Home\",2'], ['37,2012,\"05\",\"Suicide\",0,\"M\",23,\"Native American/Native Alaskan\",100,\"Home\",1'], ['38,2012,\"05\",\"Suicide\",0,\"M\",48,\"Native American/Native Alaskan\",100,\"Home\",5'], ['39,2012,\"05\",\"Suicide\",0,\"M\",43,\"White\",100,\"Home\",3'], ['40,2012,\"05\",\"Suicide\",0,\"M\",53,\"White\",100,\"Home\",3'], ['41,2012,\"05\",\"Suicide\",0,\"M\",31,\"Native American/Native Alaskan\",100,\"Home\",2'], ['42,2012,\"06\",\"Homicide\",0,\"M\",26,\"Asian/Pacific Islander\",100,\"Home\",5'], ['43,2012,\"06\",\"Suicide\",0,\"M\",87,\"White\",100,\"Home\",1'], ['44,2012,\"06\",\"Suicide\",0,\"M\",38,\"Native American/Native Alaskan\",100,\"Home\",2'], ['45,2012,\"06\",\"Suicide\",0,\"M\",17,\"Native American/Native Alaskan\",100,\"Home\",1'], ['46,2012,\"06\",\"Suicide\",0,\"M\",28,\"White\",100,\"Home\",3'], ['47,2012,\"06\",\"Suicide\",0,\"M\",39,\"White\",100,\"Home\",4'], ['48,2012,\"07\",\"Homicide\",0,\"M\",59,\"White\",100,\"Home\",2'], ['49,2012,\"06\",\"Homicide\",0,\"M\",28,\"Native American/Native Alaskan\",100,\"Home\",1'], ['50,2012,\"06\",\"Homicide\",0,\"M\",38,\"Asian/Pacific Islander\",100,\"Other specified\",3'], ['51,2012,\"07\",\"Suicide\",0,\"M\",59,\"White\",100,\"Home\",2'], ['52,2012,\"07\",\"Suicide\",0,\"M\",26,\"White\",100,\"Home\",3'], ['53,2012,\"06\",\"Suicide\",0,\"M\",50,\"Native American/Native Alaskan\",100,\"Street\",1'], ['54,2012,\"06\",\"Undetermined\",0,\"F\",26,\"Native American/Native Alaskan\",100,\"Home\",1'], ['55,2012,\"07\",\"Suicide\",0,\"M\",21,\"White\",100,\"Home\",2'], ['56,2012,\"07\",\"Suicide\",0,\"M\",61,\"White\",100,\"Other specified\",4'], ['57,2012,\"07\",\"Accidental\",0,\"M\",12,\"Black\",100,\"Home\",1'], ['58,2012,\"07\",\"Homicide\",0,\"M\",40,\"White\",100,\"Home\",3'], ['59,2012,\"07\",\"Suicide\",0,\"M\",57,\"White\",100,\"Home\",2'], ['60,2012,\"07\",\"Homicide\",0,\"M\",19,\"Black\",100,\"Home\",2'], ['61,2012,\"07\",\"Suicide\",0,\"M\",22,\"White\",100,\"Home\",2'], ['62,2012,\"08\",\"Homicide\",1,\"M\",28,\"White\",100,NA,2'], ['63,2012,\"08\",\"Suicide\",0,\"M\",20,\"White\",100,\"Home\",3'], ['64,2012,\"07\",\"Suicide\",0,\"F\",50,\"White\",100,\"Home\",2'], ['65,2012,\"07\",\"Suicide\",0,\"M\",25,\"White\",100,\"Home\",2'], ['66,2012,\"08\",\"Suicide\",0,\"M\",34,\"White\",100,\"Other specified\",2'], ['67,2012,\"08\",\"Suicide\",0,\"F\",23,\"Native American/Native Alaskan\",100,\"Home\",3'], ['68,2012,\"08\",\"Suicide\",0,\"M\",34,\"White\",100,\"Other specified\",4'], ['69,2012,\"08\",\"Suicide\",0,\"M\",60,\"White\",100,\"Other specified\",4'], ['70,2012,\"08\",\"Suicide\",0,\"M\",26,\"Native American/Native Alaskan\",100,\"Other specified\",1'], ['71,2012,\"08\",\"Suicide\",0,\"F\",62,\"White\",100,\"Home\",4'], ['72,2012,\"08\",\"Accidental\",0,\"M\",71,\"White\",100,\"Home\",3'], ['73,2012,\"08\",\"Suicide\",0,\"F\",44,\"White\",100,\"Home\",3'], ['74,2012,\"09\",\"Accidental\",0,\"M\",26,\"White\",100,\"Home\",2'], ['75,2012,\"09\",\"Suicide\",0,\"M\",39,\"White\",100,\"Other specified\",2'], ['76,2012,\"09\",\"Undetermined\",0,\"M\",26,\"Native American/Native Alaskan\",100,\"Home\",3'], ['77,2012,\"09\",\"Suicide\",0,\"M\",57,\"White\",100,\"Home\",2'], ['78,2012,\"09\",\"Suicide\",0,\"M\",29,\"Asian/Pacific Islander\",100,\"Home\",2'], ['79,2012,\"09\",\"Suicide\",0,\"M\",24,\"White\",100,\"Home\",2'], ['80,2012,\"09\",\"Homicide\",0,\"F\",30,\"White\",100,\"Other specified\",2'], ['81,2012,\"09\",\"Suicide\",0,\"F\",50,\"Native American/Native Alaskan\",100,\"Home\",4'], ['82,2012,\"09\",\"Suicide\",0,\"M\",61,\"White\",100,\"Home\",2'], ['83,2012,\"10\",\"Suicide\",0,\"F\",44,\"White\",100,\"Other specified\",5'], ['84,2012,\"09\",\"Homicide\",1,\"M\",34,\"White\",100,NA,2'], ['85,2012,\"09\",\"Suicide\",0,\"M\",28,\"White\",100,\"Other specified\",2'], ['86,2012,\"09\",\"Homicide\",0,\"M\",9,\"Native American/Native Alaskan\",100,\"Other specified\",1'], ['87,2012,\"09\",\"Suicide\",0,\"M\",77,\"White\",100,\"Home\",4'], ['88,2012,\"09\",\"Suicide\",0,\"M\",17,\"White\",100,\"Other specified\",2'], ['89,2012,\"10\",\"Suicide\",0,\"M\",25,\"Black\",100,\"Other specified\",2'], ['90,2012,\"10\",\"Suicide\",0,\"M\",22,\"Native American/Native Alaskan\",100,\"Other specified\",1'], ['91,2012,\"09\",\"Undetermined\",0,\"F\",22,\"White\",100,\"Other specified\",4'], ['92,2012,\"10\",\"Suicide\",0,\"M\",18,\"White\",100,\"Home\",1'], ['93,2012,\"10\",\"Homicide\",1,\"M\",24,\"Native American/Native Alaskan\",100,NA,1'], ['94,2012,\"09\",\"Accidental\",0,\"F\",19,\"Hispanic\",281,\"Other unspecified\",2'], ['95,2012,\"10\",\"Suicide\",0,\"M\",61,\"White\",100,\"Other specified\",2'], ['96,2012,\"10\",\"Suicide\",0,\"M\",71,\"White\",100,\"Home\",2'], ['97,2012,\"10\",\"Suicide\",0,\"M\",36,\"White\",100,\"Home\",1'], ['98,2012,\"10\",\"Homicide\",0,\"M\",27,\"White\",100,\"Other specified\",2'], ['99,2012,\"10\",\"Suicide\",0,\"M\",49,\"White\",100,\"Other specified\",3']]\n"
     ]
    }
   ],
   "source": [
    "import csv \n",
    "\n",
    "f = open('guns.csv')\n",
    "data  =list(csv.reader(f))\n",
    "\n",
    "headers  =  data[:1]\n",
    "#print(headers)\n",
    "\n",
    "data1 = data[1:100]\n",
    "print(data1)\n",
    "\n"
   ]
  },
  {
   "cell_type": "code",
   "execution_count": null,
   "metadata": {
    "collapsed": true
   },
   "outputs": [],
   "source": []
  },
  {
   "cell_type": "markdown",
   "metadata": {},
   "source": [
    "# Compter le nombre de decee  par  ans :\n",
    "    "
   ]
  },
  {
   "cell_type": "code",
   "execution_count": 56,
   "metadata": {},
   "outputs": [
    {
     "ename": "IndexError",
     "evalue": "list index out of range",
     "output_type": "error",
     "traceback": [
      "\u001b[1;31m---------------------------------------------------------------------------\u001b[0m",
      "\u001b[1;31mIndexError\u001b[0m                                Traceback (most recent call last)",
      "\u001b[1;32m<ipython-input-56-e2582264e6e5>\u001b[0m in \u001b[0;36m<module>\u001b[1;34m()\u001b[0m\n\u001b[1;32m----> 1\u001b[1;33m \u001b[0myears\u001b[0m \u001b[1;33m=\u001b[0m \u001b[1;33m[\u001b[0m\u001b[0mrow\u001b[0m\u001b[1;33m[\u001b[0m\u001b[1;36m1\u001b[0m\u001b[1;33m]\u001b[0m \u001b[1;32mfor\u001b[0m \u001b[0mrow\u001b[0m \u001b[1;32min\u001b[0m \u001b[0mdata1\u001b[0m\u001b[1;33m]\u001b[0m\u001b[1;33m\u001b[0m\u001b[0m\n\u001b[0m\u001b[0;32m      2\u001b[0m \u001b[1;33m\u001b[0m\u001b[0m\n\u001b[0;32m      3\u001b[0m \u001b[0myear_count\u001b[0m \u001b[1;33m=\u001b[0m \u001b[1;33m{\u001b[0m\u001b[1;33m}\u001b[0m\u001b[1;33m\u001b[0m\u001b[0m\n\u001b[0;32m      4\u001b[0m \u001b[1;33m\u001b[0m\u001b[0m\n\u001b[0;32m      5\u001b[0m \u001b[1;32mfor\u001b[0m \u001b[0myear\u001b[0m \u001b[1;32min\u001b[0m \u001b[0myears\u001b[0m\u001b[1;33m:\u001b[0m\u001b[1;33m\u001b[0m\u001b[0m\n",
      "\u001b[1;32m<ipython-input-56-e2582264e6e5>\u001b[0m in \u001b[0;36m<listcomp>\u001b[1;34m(.0)\u001b[0m\n\u001b[1;32m----> 1\u001b[1;33m \u001b[0myears\u001b[0m \u001b[1;33m=\u001b[0m \u001b[1;33m[\u001b[0m\u001b[0mrow\u001b[0m\u001b[1;33m[\u001b[0m\u001b[1;36m1\u001b[0m\u001b[1;33m]\u001b[0m \u001b[1;32mfor\u001b[0m \u001b[0mrow\u001b[0m \u001b[1;32min\u001b[0m \u001b[0mdata1\u001b[0m\u001b[1;33m]\u001b[0m\u001b[1;33m\u001b[0m\u001b[0m\n\u001b[0m\u001b[0;32m      2\u001b[0m \u001b[1;33m\u001b[0m\u001b[0m\n\u001b[0;32m      3\u001b[0m \u001b[0myear_count\u001b[0m \u001b[1;33m=\u001b[0m \u001b[1;33m{\u001b[0m\u001b[1;33m}\u001b[0m\u001b[1;33m\u001b[0m\u001b[0m\n\u001b[0;32m      4\u001b[0m \u001b[1;33m\u001b[0m\u001b[0m\n\u001b[0;32m      5\u001b[0m \u001b[1;32mfor\u001b[0m \u001b[0myear\u001b[0m \u001b[1;32min\u001b[0m \u001b[0myears\u001b[0m\u001b[1;33m:\u001b[0m\u001b[1;33m\u001b[0m\u001b[0m\n",
      "\u001b[1;31mIndexError\u001b[0m: list index out of range"
     ]
    }
   ],
   "source": [
    "years = [row[1] for row in data1]\n",
    "\n",
    "year_count = {}\n",
    "\n",
    "for year in years:\n",
    "    \n",
    "    if year not in  year_count:\n",
    "            year_count[year] = 0 \n",
    "    year_count[year] += 1 \n",
    "    \n",
    "    \n",
    "print(year_count) \n",
    "\n"
   ]
  },
  {
   "cell_type": "code",
   "execution_count": null,
   "metadata": {
    "collapsed": true
   },
   "outputs": [],
   "source": []
  }
 ],
 "metadata": {
  "kernelspec": {
   "display_name": "Python 3",
   "language": "python",
   "name": "python3"
  },
  "language_info": {
   "codemirror_mode": {
    "name": "ipython",
    "version": 3
   },
   "file_extension": ".py",
   "mimetype": "text/x-python",
   "name": "python",
   "nbconvert_exporter": "python",
   "pygments_lexer": "ipython3",
   "version": "3.6.3"
  }
 },
 "nbformat": 4,
 "nbformat_minor": 2
}
